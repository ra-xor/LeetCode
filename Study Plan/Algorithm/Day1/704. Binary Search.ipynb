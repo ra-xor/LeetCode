{
  "nbformat": 4,
  "nbformat_minor": 0,
  "metadata": {
    "colab": {
      "name": "Untitled13.ipynb",
      "provenance": [],
      "authorship_tag": "ABX9TyMldAwL/NUBZOZDFqrQ5YzS",
      "include_colab_link": true
    },
    "kernelspec": {
      "name": "python3",
      "display_name": "Python 3"
    },
    "language_info": {
      "name": "python"
    }
  },
  "cells": [
    {
      "cell_type": "markdown",
      "metadata": {
        "id": "view-in-github",
        "colab_type": "text"
      },
      "source": [
        "<a href=\"https://colab.research.google.com/github/ra-xor/LeetCode/blob/main/Study%20Plan/Algorithm/Day1/704.%20Binary%20Search.ipynb\" target=\"_parent\"><img src=\"https://colab.research.google.com/assets/colab-badge.svg\" alt=\"Open In Colab\"/></a>"
      ]
    },
    {
      "cell_type": "markdown",
      "metadata": {
        "id": "NhxpcIHhwPpN"
      },
      "source": [
        "Given an array of integers nums which is sorted in ascending order, and an integer target, write a function to search target in nums. If target exists, then return its index. Otherwise, return -1.\n",
        "\n",
        "You must write an algorithm with O(log n) runtime complexity.\n",
        "\n",
        " \n",
        "\n",
        "Example 1:\n",
        "\n",
        "Input: nums = [-1,0,3,5,9,12], target = 9\n",
        "Output: 4\n",
        "Explanation: 9 exists in nums and its index is 4\n",
        "Example 2:\n",
        "\n",
        "Input: nums = [-1,0,3,5,9,12], target = 2\n",
        "Output: -1\n",
        "Explanation: 2 does not exist in nums so return -1\n",
        " \n",
        "\n",
        "Constraints:\n",
        "\n",
        "1 <= nums.length <= 104\n",
        "-104 < nums[i], target < 104\n",
        "All the integers in nums are unique.\n",
        "nums is sorted in ascending order."
      ]
    },
    {
      "cell_type": "code",
      "metadata": {
        "id": "onGqW4mowPG_"
      },
      "source": [
        "class Solution:\n",
        "    def search(self, nums, target) -> int:\n",
        "        try:\n",
        "            return nums.index(target)\n",
        "        except ValueError:\n",
        "            return -1"
      ],
      "execution_count": null,
      "outputs": []
    }
  ]
}